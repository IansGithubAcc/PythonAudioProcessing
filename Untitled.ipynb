{
 "cells": [
  {
   "cell_type": "code",
   "execution_count": 1,
   "metadata": {},
   "outputs": [],
   "source": [
    "import numpy as np"
   ]
  },
  {
   "cell_type": "code",
   "execution_count": 29,
   "metadata": {},
   "outputs": [],
   "source": [
    "with open(r'input.txt') as f:\n",
    "    lines = f.read().splitlines()\n",
    "\n",
    "instruments = []\n",
    "instrument_paths = []\n",
    "Velocity_subfolders = []\n",
    "Velocity_bounds = []\n",
    "midi_paths = []\n",
    "\n",
    "for i in range(len(lines)):\n",
    "    if (lines[i][:11] == 'Instruments'):\n",
    "        n_instruments = int(lines[i][11:])    \n",
    "    if (lines[i][:4] == 'Name'):\n",
    "        instruments.append(lines[i][22:])\n",
    "    if (lines[i][:15] == 'Instrument_path'):\n",
    "        instrument_paths.append(lines[i][22:])\n",
    "    if (lines[i][:15] == 'Velocity_bounds'):\n",
    "        Velocity_bounds.append(lines[i][22:])\n",
    "    if (lines[i][:19] == 'Velocity_subfolders'):\n",
    "        Velocity_subfolders.append(lines[i][22:])\n",
    "    if (lines[i][:9] == 'Midi_path'):\n",
    "        midi_paths.append(lines[i][22:])\n",
    "        \n",
    "for i in range(n_instruments):\n",
    "    Velocity_subfolders[i] = Velocity_subfolders[i].split(\", \")\n",
    "    Velocity_bounds[i] = np.float_(Velocity_bounds[i].split(\", \"))"
   ]
  },
  {
   "cell_type": "code",
   "execution_count": null,
   "metadata": {},
   "outputs": [],
   "source": []
  },
  {
   "cell_type": "code",
   "execution_count": 30,
   "metadata": {},
   "outputs": [
    {
     "name": "stdin",
     "output_type": "stream",
     "text": [
      "Play all instruments? y/n n\n"
     ]
    },
    {
     "ename": "ValueError",
     "evalue": "Usecols do not match columns, columns expected but not found: [2, 3, 4, 5]",
     "output_type": "error",
     "traceback": [
      "\u001b[1;31m---------------------------------------------------------------------------\u001b[0m",
      "\u001b[1;31mValueError\u001b[0m                                Traceback (most recent call last)",
      "\u001b[1;32m<ipython-input-30-3326438c1c75>\u001b[0m in \u001b[0;36m<module>\u001b[1;34m\u001b[0m\n\u001b[0;32m     95\u001b[0m \u001b[1;32mfor\u001b[0m \u001b[0mi\u001b[0m \u001b[1;32min\u001b[0m \u001b[0mrange\u001b[0m\u001b[1;33m(\u001b[0m\u001b[0mlen\u001b[0m\u001b[1;33m(\u001b[0m\u001b[0mmidi_paths\u001b[0m\u001b[1;33m)\u001b[0m\u001b[1;33m)\u001b[0m\u001b[1;33m:\u001b[0m\u001b[1;33m\u001b[0m\u001b[1;33m\u001b[0m\u001b[0m\n\u001b[0;32m     96\u001b[0m     \u001b[0mplay_all_instruments\u001b[0m \u001b[1;33m=\u001b[0m \u001b[0mtrue_or_false\u001b[0m\u001b[1;33m(\u001b[0m\u001b[0minput\u001b[0m\u001b[1;33m(\u001b[0m\u001b[1;34m\"Play all instruments? y/n\"\u001b[0m\u001b[1;33m)\u001b[0m\u001b[1;33m)\u001b[0m \u001b[1;31m# plays instrument whether it is classified as pianno or not\u001b[0m\u001b[1;33m\u001b[0m\u001b[1;33m\u001b[0m\u001b[0m\n\u001b[1;32m---> 97\u001b[1;33m     \u001b[0mplay_recipe\u001b[0m\u001b[1;33m(\u001b[0m\u001b[0mmake_recipe\u001b[0m\u001b[1;33m(\u001b[0m\u001b[0mmidi_paths\u001b[0m\u001b[1;33m[\u001b[0m\u001b[0mi\u001b[0m\u001b[1;33m]\u001b[0m\u001b[1;33m,\u001b[0m\u001b[0mecho_time\u001b[0m\u001b[1;33m,\u001b[0m\u001b[0mplay_all_instruments\u001b[0m\u001b[1;33m)\u001b[0m\u001b[1;33m,\u001b[0m\u001b[0minstrument\u001b[0m\u001b[1;33m=\u001b[0m\u001b[0minstrument\u001b[0m\u001b[1;33m)\u001b[0m\u001b[1;33m\u001b[0m\u001b[1;33m\u001b[0m\u001b[0m\n\u001b[0m\u001b[0;32m     98\u001b[0m \u001b[0mprint\u001b[0m\u001b[1;33m(\u001b[0m\u001b[1;34m'playing '\u001b[0m\u001b[1;33m+\u001b[0m\u001b[0minstruments\u001b[0m\u001b[1;33m[\u001b[0m\u001b[0minstrument\u001b[0m\u001b[1;33m]\u001b[0m\u001b[1;33m)\u001b[0m\u001b[1;33m\u001b[0m\u001b[1;33m\u001b[0m\u001b[0m\n",
      "\u001b[1;32m<ipython-input-30-3326438c1c75>\u001b[0m in \u001b[0;36mmake_recipe\u001b[1;34m(path, echo_time, play_all_instruments, BPM_override)\u001b[0m\n\u001b[0;32m     27\u001b[0m \u001b[1;33m\u001b[0m\u001b[0m\n\u001b[0;32m     28\u001b[0m \u001b[1;32mdef\u001b[0m \u001b[0mmake_recipe\u001b[0m\u001b[1;33m(\u001b[0m\u001b[0mpath\u001b[0m\u001b[1;33m,\u001b[0m \u001b[0mecho_time\u001b[0m \u001b[1;33m=\u001b[0m \u001b[1;32mNone\u001b[0m\u001b[1;33m,\u001b[0m \u001b[0mplay_all_instruments\u001b[0m \u001b[1;33m=\u001b[0m \u001b[1;32mFalse\u001b[0m\u001b[1;33m,\u001b[0m\u001b[0mBPM_override\u001b[0m \u001b[1;33m=\u001b[0m \u001b[1;32mNone\u001b[0m\u001b[1;33m)\u001b[0m\u001b[1;33m:\u001b[0m\u001b[1;33m\u001b[0m\u001b[1;33m\u001b[0m\u001b[0m\n\u001b[1;32m---> 29\u001b[1;33m     \u001b[0msong\u001b[0m \u001b[1;33m=\u001b[0m \u001b[0mread_csv\u001b[0m\u001b[1;33m(\u001b[0m\u001b[0mpath\u001b[0m\u001b[1;33m,\u001b[0m \u001b[0mskipinitialspace\u001b[0m\u001b[1;33m=\u001b[0m\u001b[1;32mTrue\u001b[0m\u001b[1;33m,\u001b[0m\u001b[0musecols\u001b[0m\u001b[1;33m=\u001b[0m\u001b[0mnp\u001b[0m\u001b[1;33m.\u001b[0m\u001b[0marange\u001b[0m\u001b[1;33m(\u001b[0m\u001b[1;36m6\u001b[0m\u001b[1;33m)\u001b[0m\u001b[1;33m,\u001b[0m\u001b[0mheader\u001b[0m\u001b[1;33m=\u001b[0m\u001b[1;32mNone\u001b[0m\u001b[1;33m,\u001b[0m\u001b[0mskiprows\u001b[0m\u001b[1;33m=\u001b[0m\u001b[1;36m0\u001b[0m\u001b[1;33m,\u001b[0m \u001b[0mencoding\u001b[0m\u001b[1;33m=\u001b[0m\u001b[1;34m'ISO-8859-1'\u001b[0m\u001b[1;33m)\u001b[0m\u001b[1;33m\u001b[0m\u001b[1;33m\u001b[0m\u001b[0m\n\u001b[0m\u001b[0;32m     30\u001b[0m     \u001b[1;32mif\u001b[0m \u001b[1;33m(\u001b[0m\u001b[0mBPM_override\u001b[0m \u001b[1;33m!=\u001b[0m \u001b[1;32mNone\u001b[0m\u001b[1;33m)\u001b[0m\u001b[1;33m:\u001b[0m\u001b[1;33m\u001b[0m\u001b[1;33m\u001b[0m\u001b[0m\n\u001b[0;32m     31\u001b[0m         \u001b[0mBPS\u001b[0m \u001b[1;33m=\u001b[0m \u001b[0mBPM_override\u001b[0m\u001b[1;33m/\u001b[0m\u001b[1;36m60\u001b[0m\u001b[1;33m\u001b[0m\u001b[1;33m\u001b[0m\u001b[0m\n",
      "\u001b[1;32m~\\anaconda3\\lib\\site-packages\\pandas\\io\\parsers.py\u001b[0m in \u001b[0;36mparser_f\u001b[1;34m(filepath_or_buffer, sep, delimiter, header, names, index_col, usecols, squeeze, prefix, mangle_dupe_cols, dtype, engine, converters, true_values, false_values, skipinitialspace, skiprows, skipfooter, nrows, na_values, keep_default_na, na_filter, verbose, skip_blank_lines, parse_dates, infer_datetime_format, keep_date_col, date_parser, dayfirst, iterator, chunksize, compression, thousands, decimal, lineterminator, quotechar, quoting, doublequote, escapechar, comment, encoding, dialect, tupleize_cols, error_bad_lines, warn_bad_lines, delim_whitespace, low_memory, memory_map, float_precision)\u001b[0m\n\u001b[0;32m    700\u001b[0m                     skip_blank_lines=skip_blank_lines)\n\u001b[0;32m    701\u001b[0m \u001b[1;33m\u001b[0m\u001b[0m\n\u001b[1;32m--> 702\u001b[1;33m         \u001b[1;32mreturn\u001b[0m \u001b[0m_read\u001b[0m\u001b[1;33m(\u001b[0m\u001b[0mfilepath_or_buffer\u001b[0m\u001b[1;33m,\u001b[0m \u001b[0mkwds\u001b[0m\u001b[1;33m)\u001b[0m\u001b[1;33m\u001b[0m\u001b[1;33m\u001b[0m\u001b[0m\n\u001b[0m\u001b[0;32m    703\u001b[0m \u001b[1;33m\u001b[0m\u001b[0m\n\u001b[0;32m    704\u001b[0m     \u001b[0mparser_f\u001b[0m\u001b[1;33m.\u001b[0m\u001b[0m__name__\u001b[0m \u001b[1;33m=\u001b[0m \u001b[0mname\u001b[0m\u001b[1;33m\u001b[0m\u001b[1;33m\u001b[0m\u001b[0m\n",
      "\u001b[1;32m~\\anaconda3\\lib\\site-packages\\pandas\\io\\parsers.py\u001b[0m in \u001b[0;36m_read\u001b[1;34m(filepath_or_buffer, kwds)\u001b[0m\n\u001b[0;32m    427\u001b[0m \u001b[1;33m\u001b[0m\u001b[0m\n\u001b[0;32m    428\u001b[0m     \u001b[1;31m# Create the parser.\u001b[0m\u001b[1;33m\u001b[0m\u001b[1;33m\u001b[0m\u001b[1;33m\u001b[0m\u001b[0m\n\u001b[1;32m--> 429\u001b[1;33m     \u001b[0mparser\u001b[0m \u001b[1;33m=\u001b[0m \u001b[0mTextFileReader\u001b[0m\u001b[1;33m(\u001b[0m\u001b[0mfilepath_or_buffer\u001b[0m\u001b[1;33m,\u001b[0m \u001b[1;33m**\u001b[0m\u001b[0mkwds\u001b[0m\u001b[1;33m)\u001b[0m\u001b[1;33m\u001b[0m\u001b[1;33m\u001b[0m\u001b[0m\n\u001b[0m\u001b[0;32m    430\u001b[0m \u001b[1;33m\u001b[0m\u001b[0m\n\u001b[0;32m    431\u001b[0m     \u001b[1;32mif\u001b[0m \u001b[0mchunksize\u001b[0m \u001b[1;32mor\u001b[0m \u001b[0miterator\u001b[0m\u001b[1;33m:\u001b[0m\u001b[1;33m\u001b[0m\u001b[1;33m\u001b[0m\u001b[0m\n",
      "\u001b[1;32m~\\anaconda3\\lib\\site-packages\\pandas\\io\\parsers.py\u001b[0m in \u001b[0;36m__init__\u001b[1;34m(self, f, engine, **kwds)\u001b[0m\n\u001b[0;32m    893\u001b[0m             \u001b[0mself\u001b[0m\u001b[1;33m.\u001b[0m\u001b[0moptions\u001b[0m\u001b[1;33m[\u001b[0m\u001b[1;34m'has_index_names'\u001b[0m\u001b[1;33m]\u001b[0m \u001b[1;33m=\u001b[0m \u001b[0mkwds\u001b[0m\u001b[1;33m[\u001b[0m\u001b[1;34m'has_index_names'\u001b[0m\u001b[1;33m]\u001b[0m\u001b[1;33m\u001b[0m\u001b[1;33m\u001b[0m\u001b[0m\n\u001b[0;32m    894\u001b[0m \u001b[1;33m\u001b[0m\u001b[0m\n\u001b[1;32m--> 895\u001b[1;33m         \u001b[0mself\u001b[0m\u001b[1;33m.\u001b[0m\u001b[0m_make_engine\u001b[0m\u001b[1;33m(\u001b[0m\u001b[0mself\u001b[0m\u001b[1;33m.\u001b[0m\u001b[0mengine\u001b[0m\u001b[1;33m)\u001b[0m\u001b[1;33m\u001b[0m\u001b[1;33m\u001b[0m\u001b[0m\n\u001b[0m\u001b[0;32m    896\u001b[0m \u001b[1;33m\u001b[0m\u001b[0m\n\u001b[0;32m    897\u001b[0m     \u001b[1;32mdef\u001b[0m \u001b[0mclose\u001b[0m\u001b[1;33m(\u001b[0m\u001b[0mself\u001b[0m\u001b[1;33m)\u001b[0m\u001b[1;33m:\u001b[0m\u001b[1;33m\u001b[0m\u001b[1;33m\u001b[0m\u001b[0m\n",
      "\u001b[1;32m~\\anaconda3\\lib\\site-packages\\pandas\\io\\parsers.py\u001b[0m in \u001b[0;36m_make_engine\u001b[1;34m(self, engine)\u001b[0m\n\u001b[0;32m   1120\u001b[0m     \u001b[1;32mdef\u001b[0m \u001b[0m_make_engine\u001b[0m\u001b[1;33m(\u001b[0m\u001b[0mself\u001b[0m\u001b[1;33m,\u001b[0m \u001b[0mengine\u001b[0m\u001b[1;33m=\u001b[0m\u001b[1;34m'c'\u001b[0m\u001b[1;33m)\u001b[0m\u001b[1;33m:\u001b[0m\u001b[1;33m\u001b[0m\u001b[1;33m\u001b[0m\u001b[0m\n\u001b[0;32m   1121\u001b[0m         \u001b[1;32mif\u001b[0m \u001b[0mengine\u001b[0m \u001b[1;33m==\u001b[0m \u001b[1;34m'c'\u001b[0m\u001b[1;33m:\u001b[0m\u001b[1;33m\u001b[0m\u001b[1;33m\u001b[0m\u001b[0m\n\u001b[1;32m-> 1122\u001b[1;33m             \u001b[0mself\u001b[0m\u001b[1;33m.\u001b[0m\u001b[0m_engine\u001b[0m \u001b[1;33m=\u001b[0m \u001b[0mCParserWrapper\u001b[0m\u001b[1;33m(\u001b[0m\u001b[0mself\u001b[0m\u001b[1;33m.\u001b[0m\u001b[0mf\u001b[0m\u001b[1;33m,\u001b[0m \u001b[1;33m**\u001b[0m\u001b[0mself\u001b[0m\u001b[1;33m.\u001b[0m\u001b[0moptions\u001b[0m\u001b[1;33m)\u001b[0m\u001b[1;33m\u001b[0m\u001b[1;33m\u001b[0m\u001b[0m\n\u001b[0m\u001b[0;32m   1123\u001b[0m         \u001b[1;32melse\u001b[0m\u001b[1;33m:\u001b[0m\u001b[1;33m\u001b[0m\u001b[1;33m\u001b[0m\u001b[0m\n\u001b[0;32m   1124\u001b[0m             \u001b[1;32mif\u001b[0m \u001b[0mengine\u001b[0m \u001b[1;33m==\u001b[0m \u001b[1;34m'python'\u001b[0m\u001b[1;33m:\u001b[0m\u001b[1;33m\u001b[0m\u001b[1;33m\u001b[0m\u001b[0m\n",
      "\u001b[1;32m~\\anaconda3\\lib\\site-packages\\pandas\\io\\parsers.py\u001b[0m in \u001b[0;36m__init__\u001b[1;34m(self, src, **kwds)\u001b[0m\n\u001b[0;32m   1900\u001b[0m \u001b[1;33m\u001b[0m\u001b[0m\n\u001b[0;32m   1901\u001b[0m             \u001b[1;32mif\u001b[0m \u001b[0mlen\u001b[0m\u001b[1;33m(\u001b[0m\u001b[0mself\u001b[0m\u001b[1;33m.\u001b[0m\u001b[0mnames\u001b[0m\u001b[1;33m)\u001b[0m \u001b[1;33m<\u001b[0m \u001b[0mlen\u001b[0m\u001b[1;33m(\u001b[0m\u001b[0musecols\u001b[0m\u001b[1;33m)\u001b[0m\u001b[1;33m:\u001b[0m\u001b[1;33m\u001b[0m\u001b[1;33m\u001b[0m\u001b[0m\n\u001b[1;32m-> 1902\u001b[1;33m                 \u001b[0m_validate_usecols_names\u001b[0m\u001b[1;33m(\u001b[0m\u001b[0musecols\u001b[0m\u001b[1;33m,\u001b[0m \u001b[0mself\u001b[0m\u001b[1;33m.\u001b[0m\u001b[0mnames\u001b[0m\u001b[1;33m)\u001b[0m\u001b[1;33m\u001b[0m\u001b[1;33m\u001b[0m\u001b[0m\n\u001b[0m\u001b[0;32m   1903\u001b[0m \u001b[1;33m\u001b[0m\u001b[0m\n\u001b[0;32m   1904\u001b[0m         \u001b[0mself\u001b[0m\u001b[1;33m.\u001b[0m\u001b[0m_set_noconvert_columns\u001b[0m\u001b[1;33m(\u001b[0m\u001b[1;33m)\u001b[0m\u001b[1;33m\u001b[0m\u001b[1;33m\u001b[0m\u001b[0m\n",
      "\u001b[1;32m~\\anaconda3\\lib\\site-packages\\pandas\\io\\parsers.py\u001b[0m in \u001b[0;36m_validate_usecols_names\u001b[1;34m(usecols, names)\u001b[0m\n\u001b[0;32m   1235\u001b[0m         raise ValueError(\n\u001b[0;32m   1236\u001b[0m             \u001b[1;34m\"Usecols do not match columns, \"\u001b[0m\u001b[1;33m\u001b[0m\u001b[1;33m\u001b[0m\u001b[0m\n\u001b[1;32m-> 1237\u001b[1;33m             \u001b[1;34m\"columns expected but not found: {missing}\"\u001b[0m\u001b[1;33m.\u001b[0m\u001b[0mformat\u001b[0m\u001b[1;33m(\u001b[0m\u001b[0mmissing\u001b[0m\u001b[1;33m=\u001b[0m\u001b[0mmissing\u001b[0m\u001b[1;33m)\u001b[0m\u001b[1;33m\u001b[0m\u001b[1;33m\u001b[0m\u001b[0m\n\u001b[0m\u001b[0;32m   1238\u001b[0m         )\n\u001b[0;32m   1239\u001b[0m \u001b[1;33m\u001b[0m\u001b[0m\n",
      "\u001b[1;31mValueError\u001b[0m: Usecols do not match columns, columns expected but not found: [2, 3, 4, 5]"
     ]
    }
   ],
   "source": [
    "### Inporting required packages\n",
    "from apscheduler.schedulers.background import BackgroundScheduler\n",
    "import time\n",
    "import numpy as np\n",
    "import pygame\n",
    "from datetime import datetime, timedelta\n",
    "from pandas import read_csv\n",
    "\n",
    "### Loading functions\n",
    "def note_path(midi_nr, vel, instrument):\n",
    "    for i in range(len(Velocity_bounds[instrument])-1):\n",
    "        if (midi_nr <= 108 and midi_nr >= 23):\n",
    "            if (vel <= Velocity_bounds[instrument][i+1]):\n",
    "                return instrument_paths[instrument]+Velocity_subfolders[instrument][i]+\"/\" + str(midi_nr) + \".wav\"\n",
    "        else: \n",
    "            print(\"warning note missing\")\n",
    "            return -99\n",
    "\n",
    "def player(Note, Volume,n):\n",
    "    if (Note!=-99):\n",
    "        print(Note, Volume,n)\n",
    "        channel = pygame.mixer.Channel(n)\n",
    "        effect = pygame.mixer.Sound(Note)\n",
    "        channel.set_volume(Volume)\n",
    "        channel.play(effect)\n",
    "    return \n",
    "\n",
    "def make_recipe(path, echo_time = None, play_all_instruments = False,BPM_override = None):\n",
    "    song = read_csv(path, skipinitialspace=True,usecols=np.arange(6),header=None,skiprows=0, encoding='ISO-8859-1')\n",
    "    if (BPM_override != None):\n",
    "        BPS = BPM_override/60\n",
    "    else:\n",
    "        BPS = 1e6/float(song[np.logical_or(song.iloc[:,2] == \" Tempo\", song.iloc[:,2] == \"Tempo\")].iloc[0,3])\n",
    "    print(\"BPM = \"+str(round(BPS*60,1)))\n",
    "    multi = (read_csv(path,usecols=np.arange(6),skiprows = 0,header=None,nrows=1).iloc[0,-1]*BPS)\n",
    "\n",
    "    instruments = song[song.iloc[:,2] == \"Program_c\"] # reading instrument types\n",
    "    i_play = [] # list of pianno tracks\n",
    "    for i in range(len(instruments)):\n",
    "        if (float(instruments.iloc[i,4]) <= 7):\n",
    "            i_play.append(instruments.iloc[i,0])\n",
    "\n",
    "    if (play_all_instruments==False):\n",
    "        song = song[[song.iloc[i,0] in i_play for i in range(len(song))]] # Selecting only active instruments\n",
    "        print(\"playing \"+str(len(i_play))+\" out of \"+str(len(instruments))+\" instruments\")\n",
    "    else:\n",
    "        print(\"playing \"+str(len(instruments))+\" out of \"+str(len(instruments))+\" instruments\")\n",
    "    song = song[np.logical_or(song.iloc[:,2]==\"Note_on_c\", song.iloc[:,2]==\"Note_off_c\")] # Selecting only playing commands\n",
    "    return song, multi\n",
    "\n",
    "def play_recipe(recipe,vol=1,instrument=0):#                         Change Volume!!!\n",
    "    song, multi = recipe\n",
    "    pygame.mixer.init()\n",
    "    pygame.init()\n",
    "\n",
    "    scheduler = BackgroundScheduler()\n",
    "    timenow = datetime.now()\n",
    "\n",
    "    channel_note = [[None,None],[None,None]]\n",
    "    free_channels = list(np.arange(8))\n",
    "\n",
    "    for i in range(len(song)):\n",
    "        if any(np.array(channel_note)[:,1] == int(song.iloc[i,4])):\n",
    "            free_channels.insert(0,np.array(channel_note)[np.array(channel_note)[:,1] == int(song.iloc[i,4])][0][0])\n",
    "            channel_note.remove(channel_note[int(np.where(np.array(channel_note)[:,1] == int(song.iloc[i,4]))[0])])\n",
    "        if (len(free_channels) == 0):\n",
    "            free_channels.append(channel_note[2][0])\n",
    "        channel_note.append([int(free_channels[0]),int(song.iloc[i,4])])\n",
    "\n",
    "        if (echo_time!=None):\n",
    "            if (int(song.iloc[i,5])!=0):\n",
    "                scheduler.add_job(player, 'date',[note_path(int(song.iloc[i,4]),int(song.iloc[i,5]),instrument),vol,free_channels[0]], run_date=timenow + timedelta(seconds=int(song.iloc[i,1])/multi),misfire_grace_time=3,max_instances=8)\n",
    "            else:\n",
    "                scheduler.add_job(player, 'date',[note_path(int(song.iloc[i,4]),int(song.iloc[i,5]),instrument),vol,free_channels[0]], run_date=timenow + timedelta(seconds=int(song.iloc[i,1])/multi+echo_time),misfire_grace_time=3,max_instances=8)\n",
    "        else:\n",
    "            if (int(song.iloc[i,5])!=0):\n",
    "                scheduler.add_job(player, 'date',[note_path(int(song.iloc[i,4]),int(song.iloc[i,5]),instrument),vol,free_channels[0]], run_date=timenow + timedelta(seconds=int(song.iloc[i,1])/multi),misfire_grace_time=3,max_instances=8)\n",
    "        free_channels = free_channels[1:]\n",
    "    scheduler.start()\n",
    "    input('Press enter to stop: ')\n",
    "    scheduler.shutdown()\n",
    "\n",
    "def true_or_false(string):\n",
    "    if (string==\"Yes\" or string==\"yes\" or string==\"Y\" or string==\"y\"):\n",
    "        return True\n",
    "    elif (string==\"No\" or string==\"no\" or string==\"n\" or string==\"N\"):\n",
    "        return False\n",
    "    else:\n",
    "        print(\"try again\")\n",
    "        true_or_false(input())\n",
    "    \n",
    "echo_time = None # how long notes agiare played. Use None for as long as possible\n",
    "instrument = 0\n",
    "\n",
    "for i in range(len(midi_paths)):\n",
    "    play_all_instruments = true_or_false(input(\"Play all instruments? y/n\")) # plays instrument whether it is classified as pianno or not\n",
    "    play_recipe(make_recipe(midi_paths[i],echo_time,play_all_instruments),instrument=instrument)\n",
    "print('playing '+instruments[instrument])"
   ]
  },
  {
   "cell_type": "code",
   "execution_count": null,
   "metadata": {},
   "outputs": [],
   "source": [
    "### Input\n",
    "# path = \"midicsv-1.1/Tetris Theme.csv\"\n",
    "# path = \"midicsv-1.1/Billy_Joel_-_Piano_Man.csv\"\n",
    "# path = \"midicsv-1.1/for_elise_by_beethoven.csv\"\n",
    "# path = \"midicsv-1.1/deb_prel.csv\"\n",
    "# path = \"midicsv-1.1/Henry Mancini - Pink Panther.csv\"\n",
    "# path = \"midicsv-1.1/Beethoven-Moonlight-Sonata.csv\"\n",
    "# path = \"midicsv-1.1/Sia - Elastic Heart.csv\"\n",
    "# path = \"midicsv-1.1/Pirates of the Caribbean - He's a Pirate.csv\"\n",
    "# path = \"midicsv-1.1/joe_hisaishione_summers_day.csv\"\n",
    "# path = \"midicsv-1.1/pachelbel_canon.csv\""
   ]
  },
  {
   "cell_type": "code",
   "execution_count": 22,
   "metadata": {},
   "outputs": [],
   "source": [
    "player(note_path(50,100,1),1,0)"
   ]
  },
  {
   "cell_type": "code",
   "execution_count": 31,
   "metadata": {},
   "outputs": [
    {
     "data": {
      "text/plain": [
       "'C:/Users/ianmu/OneDrive - Delft University of Technology/Google Drive/Overig/Overig/midicsv-1.1/Dreamland.mid'"
      ]
     },
     "execution_count": 31,
     "metadata": {},
     "output_type": "execute_result"
    }
   ],
   "source": []
  },
  {
   "cell_type": "code",
   "execution_count": null,
   "metadata": {},
   "outputs": [],
   "source": []
  }
 ],
 "metadata": {
  "kernelspec": {
   "display_name": "Python 3",
   "language": "python",
   "name": "python3"
  },
  "language_info": {
   "codemirror_mode": {
    "name": "ipython",
    "version": 3
   },
   "file_extension": ".py",
   "mimetype": "text/x-python",
   "name": "python",
   "nbconvert_exporter": "python",
   "pygments_lexer": "ipython3",
   "version": "3.7.6"
  }
 },
 "nbformat": 4,
 "nbformat_minor": 4
}
