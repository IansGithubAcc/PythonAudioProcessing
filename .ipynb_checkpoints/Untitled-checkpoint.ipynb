{
 "cells": [
  {
   "cell_type": "code",
   "execution_count": 1,
   "metadata": {},
   "outputs": [],
   "source": [
    "import numpy as np"
   ]
  },
  {
   "cell_type": "code",
   "execution_count": 27,
   "metadata": {},
   "outputs": [],
   "source": [
    "with open(r'input.txt') as f:\n",
    "    lines = f.read().splitlines()\n",
    "\n",
    "instruments = []\n",
    "instrument_paths = []\n",
    "Velocity_subfolders = []\n",
    "Velocity_bounds = []\n",
    "midi_paths = []\n",
    "\n",
    "for i in range(len(lines)):\n",
    "    if (lines[i][:11] == 'Instruments'):\n",
    "        n_instruments = int(lines[i][11:])    \n",
    "    if (lines[i][:4] == 'Name'):\n",
    "        instruments.append(lines[i][22:])\n",
    "    if (lines[i][:15] == 'Instrument_path'):\n",
    "        instrument_paths.append(lines[i][22:])\n",
    "    if (lines[i][:15] == 'Velocity_bounds'):\n",
    "        Velocity_bounds.append(lines[i][22:])\n",
    "    if (lines[i][:19] == 'Velocity_subfolders'):\n",
    "        Velocity_subfolders.append(lines[i][22:])\n",
    "    if (lines[i][:9] == 'Midi_path'):\n",
    "        midi_paths.append(lines[i][22:])\n",
    "        \n",
    "for i in range(n_instruments):\n",
    "    Velocity_subfolders[i] = Velocity_subfolders[i].split(\", \")\n",
    "    Velocity_bounds[i] = np.float_(Velocity_bounds[i].split(\", \"))"
   ]
  },
  {
   "cell_type": "code",
   "execution_count": 30,
   "metadata": {},
   "outputs": [
    {
     "name": "stdout",
     "output_type": "stream",
     "text": [
      "playing Piano\n"
     ]
    },
    {
     "name": "stdin",
     "output_type": "stream",
     "text": [
      "Play all instruments? y/n y\n"
     ]
    },
    {
     "name": "stdout",
     "output_type": "stream",
     "text": [
      "BPM = 145.0\n",
      "playing 2 out of 2 instruments\n"
     ]
    },
    {
     "name": "stdin",
     "output_type": "stream",
     "text": [
      "Press enter to stop:  \n",
      "Play all instruments? y/n n\n"
     ]
    },
    {
     "name": "stdout",
     "output_type": "stream",
     "text": [
      "BPM = 200.0\n",
      "playing 2 out of 3 instruments\n"
     ]
    },
    {
     "name": "stdin",
     "output_type": "stream",
     "text": [
      "Press enter to stop:  \n"
     ]
    }
   ],
   "source": [
    "### Inporting required packages\n",
    "from apscheduler.schedulers.background import BackgroundScheduler\n",
    "import time\n",
    "import numpy as np\n",
    "import pygame\n",
    "from datetime import datetime, timedelta\n",
    "from pandas import read_csv\n",
    "\n",
    "### Loading functions\n",
    "def note_path(midi_nr, vel):\n",
    "    for i in range(len(Velocity_bounds[instrument])-1):\n",
    "        if (midi_nr <= 108 and midi_nr >= 23):\n",
    "            if (vel <= Velocity_bounds[instrument][i+1]):\n",
    "                return instrument_paths[instrument]+Velocity_subfolders[instrument][i]+\"/\" + str(midi_nr) + \".wav\"\n",
    "        else: \n",
    "            print(\"warning note missing\")\n",
    "            return -99\n",
    "\n",
    "def player(Note, Volume,n):\n",
    "    if (Note!=-99):\n",
    "        channel = pygame.mixer.Channel(n)\n",
    "        effect = pygame.mixer.Sound(Note)\n",
    "        channel.set_volume(Volume)\n",
    "        channel.play(effect)\n",
    "    return \n",
    "\n",
    "def make_recipe(path, echo_time = None, play_all_instruments = False,BPM_override = None, instrument=0):\n",
    "    song = read_csv(path, skipinitialspace=True,usecols=np.arange(6),header=None,skiprows=0, encoding='ISO-8859-1')\n",
    "    if (BPM_override != None):\n",
    "        BPS = BPM_override/60\n",
    "    else:\n",
    "        BPS = 1e6/float(song[np.logical_or(song.iloc[:,2] == \" Tempo\", song.iloc[:,2] == \"Tempo\")].iloc[0,3])\n",
    "    print(\"BPM = \"+str(round(BPS*60,1)))\n",
    "    multi = (read_csv(path,usecols=np.arange(6),skiprows = 0,header=None,nrows=1).iloc[0,-1]*BPS)\n",
    "\n",
    "    instruments = song[song.iloc[:,2] == \"Program_c\"] # reading instrument types\n",
    "    i_play = [] # list of pianno tracks\n",
    "    for i in range(len(instruments)):\n",
    "        if (float(instruments.iloc[i,4]) <= 7):\n",
    "            i_play.append(instruments.iloc[i,0])\n",
    "\n",
    "    if (play_all_instruments==False):\n",
    "        song = song[[song.iloc[i,0] in i_play for i in range(len(song))]] # Selecting only active instruments\n",
    "        print(\"playing \"+str(len(i_play))+\" out of \"+str(len(instruments))+\" instruments\")\n",
    "    else:\n",
    "        print(\"playing \"+str(len(instruments))+\" out of \"+str(len(instruments))+\" instruments\")\n",
    "    song = song[np.logical_or(song.iloc[:,2]==\"Note_on_c\", song.iloc[:,2]==\"Note_off_c\")] # Selecting only playing commands\n",
    "    return song, multi\n",
    "\n",
    "def play_recipe(recipe,vol=1):#                         Change Volume!!!\n",
    "    song, multi = recipe\n",
    "    pygame.mixer.init()\n",
    "    pygame.init()\n",
    "\n",
    "    scheduler = BackgroundScheduler()\n",
    "    timenow = datetime.now()\n",
    "\n",
    "    channel_note = [[None,None],[None,None]]\n",
    "    free_channels = list(np.arange(8))\n",
    "\n",
    "    for i in range(len(song)):\n",
    "        if any(np.array(channel_note)[:,1] == int(song.iloc[i,4])):\n",
    "            free_channels.insert(0,np.array(channel_note)[np.array(channel_note)[:,1] == int(song.iloc[i,4])][0][0])\n",
    "            channel_note.remove(channel_note[int(np.where(np.array(channel_note)[:,1] == int(song.iloc[i,4]))[0])])\n",
    "        if (len(free_channels) == 0):\n",
    "            free_channels.append(channel_note[2][0])\n",
    "        channel_note.append([int(free_channels[0]),int(song.iloc[i,4])])\n",
    "\n",
    "        if (echo_time!=None):\n",
    "            if (int(song.iloc[i,5])!=0):\n",
    "                scheduler.add_job(player, 'date',[note_path(int(song.iloc[i,4]),int(song.iloc[i,5])),vol,free_channels[0]], run_date=timenow + timedelta(seconds=int(song.iloc[i,1])/multi),misfire_grace_time=3,max_instances=8)\n",
    "            else:\n",
    "                scheduler.add_job(player, 'date',[note_path(int(song.iloc[i,4]),int(song.iloc[i,5])),vol,free_channels[0]], run_date=timenow + timedelta(seconds=int(song.iloc[i,1])/multi+echo_time),misfire_grace_time=3,max_instances=8)\n",
    "        else:\n",
    "            if (int(song.iloc[i,5])!=0):\n",
    "                scheduler.add_job(player, 'date',[note_path(int(song.iloc[i,4]),int(song.iloc[i,5])),vol,free_channels[0]], run_date=timenow + timedelta(seconds=int(song.iloc[i,1])/multi),misfire_grace_time=3,max_instances=8)\n",
    "        free_channels = free_channels[1:]\n",
    "    scheduler.start()\n",
    "    input('Press enter to stop: ')\n",
    "    scheduler.shutdown()\n",
    "\n",
    "def true_or_false(string):\n",
    "    if (string==\"Yes\" or string==\"yes\" or string==\"Y\" or string==\"y\"):\n",
    "        return True\n",
    "    elif (string==\"No\" or string==\"no\" or string==\"n\" or string==\"N\"):\n",
    "        return False\n",
    "    else:\n",
    "        print(\"try again\")\n",
    "        true_or_false(input())\n",
    "    \n",
    "echo_time = None # how long notes agiare played. Use None for as long as possible\n",
    "instrument = 0\n",
    "print('playing '+instruments[instrument])\n",
    "\n",
    "for i in range(len(midi_paths)):\n",
    "    play_all_instruments = true_or_false(input(\"Play all instruments? y/n\")) # plays instrument whether it is classified as pianno or not\n",
    "    play_recipe(make_recipe(midi_paths[i],echo_time,play_all_instruments))"
   ]
  },
  {
   "cell_type": "code",
   "execution_count": null,
   "metadata": {},
   "outputs": [],
   "source": [
    "### Input\n",
    "# path = \"midicsv-1.1/Tetris Theme.csv\"\n",
    "# path = \"midicsv-1.1/Billy_Joel_-_Piano_Man.csv\"\n",
    "# path = \"midicsv-1.1/for_elise_by_beethoven.csv\"\n",
    "# path = \"midicsv-1.1/deb_prel.csv\"\n",
    "# path = \"midicsv-1.1/Henry Mancini - Pink Panther.csv\"\n",
    "# path = \"midicsv-1.1/Beethoven-Moonlight-Sonata.csv\"\n",
    "# path = \"midicsv-1.1/Sia - Elastic Heart.csv\"\n",
    "# path = \"midicsv-1.1/Pirates of the Caribbean - He's a Pirate.csv\"\n",
    "# path = \"midicsv-1.1/joe_hisaishione_summers_day.csv\"\n",
    "# path = \"midicsv-1.1/pachelbel_canon.csv\""
   ]
  }
 ],
 "metadata": {
  "kernelspec": {
   "display_name": "Python 3",
   "language": "python",
   "name": "python3"
  },
  "language_info": {
   "codemirror_mode": {
    "name": "ipython",
    "version": 3
   },
   "file_extension": ".py",
   "mimetype": "text/x-python",
   "name": "python",
   "nbconvert_exporter": "python",
   "pygments_lexer": "ipython3",
   "version": "3.7.6"
  }
 },
 "nbformat": 4,
 "nbformat_minor": 4
}
