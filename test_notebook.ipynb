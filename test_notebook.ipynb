{
 "cells": [
  {
   "cell_type": "code",
   "execution_count": 1,
   "metadata": {},
   "outputs": [
    {
     "name": "stdout",
     "output_type": "stream",
     "text": [
      "pygame 2.0.1 (SDL 2.0.14, Python 3.7.6)\n",
      "Hello from the pygame community. https://www.pygame.org/contribute.html\n"
     ]
    }
   ],
   "source": [
    "### Inporting required packages\n",
    "from apscheduler.schedulers.background import BackgroundScheduler\n",
    "import time\n",
    "import numpy as np\n",
    "import pygame\n",
    "from datetime import datetime, timedelta\n",
    "from pandas import read_csv"
   ]
  },
  {
   "cell_type": "code",
   "execution_count": 8,
   "metadata": {},
   "outputs": [],
   "source": [
    "### Functions\n",
    "def read_input():\n",
    "    with open(r'input.txt') as f:\n",
    "        lines = f.read().splitlines()\n",
    "\n",
    "    instruments = []\n",
    "    instrument_paths = []\n",
    "    velocity_subfolders = []\n",
    "    velocity_bounds = []\n",
    "    midi_paths = []\n",
    "\n",
    "    for i in range(len(lines)):\n",
    "        if (lines[i][:11] == 'instruments'):\n",
    "            n_instruments = int(lines[i][11:])\n",
    "        if (lines[i][:4] == 'name'):\n",
    "            instruments.append(lines[i][22:])\n",
    "        if (lines[i][:15] == 'instrument_path'):\n",
    "            instrument_paths.append(lines[i][22:])\n",
    "        if (lines[i][:15] == 'velocity_bounds'):\n",
    "            velocity_bounds.append(lines[i][22:])\n",
    "        if (lines[i][:19] == 'velocity_subfolders'):\n",
    "            velocity_subfolders.append(lines[i][22:])\n",
    "        if (lines[i][:9] == 'midi_path'):\n",
    "            midi_paths.append(lines[i][22:])\n",
    "\n",
    "    for i in range(n_instruments):\n",
    "        velocity_subfolders[i] = velocity_subfolders[i].split(\", \")\n",
    "        velocity_bounds[i] = np.float_(velocity_bounds[i].split(\", \"))\n",
    "    return n_instruments, instruments, instrument_paths, velocity_subfolders, velocity_bounds, midi_paths\n",
    "\n",
    "def note_path(midi_nr, vel, INSTRUMENT):\n",
    "    \"\"\"\n",
    "    Returns the path to the note sound file. The function assumes the sound files have been sepparated in dictonaries based on the velocity of the velocity (loudness).\n",
    "    The midi_nr is assumed to be withing the typical  range of [23, 108] and the velocity is assumed to be within a range of [0, 127]\n",
    "    \"\"\"\n",
    "    for i in range(len(INSTRUMENT.velocity_bounds)-1):\n",
    "        if (midi_nr <= 108 and midi_nr >= 23):\n",
    "            if (vel <= INSTRUMENT.velocity_bounds[i+1]):\n",
    "                return INSTRUMENT.instrument_paths+INSTRUMENT.velocity_subfolders[i]+\"/\" + str(midi_nr) + \".wav\"\n",
    "        else: \n",
    "            print(\"warning note missing\")\n",
    "            return -99\n",
    "\n",
    "def player(Note, Volume,n):\n",
    "    if (Note!=-99):\n",
    "        channel = pygame.mixer.Channel(n)\n",
    "        effect = pygame.mixer.Sound(Note)\n",
    "        channel.set_volume(Volume)\n",
    "        channel.play(effect)\n",
    "    return \n",
    "\n",
    "def make_recipe(midicsv_path, INSTRUMENT, play_all_instruments = False, BPM_override = None):\n",
    "    \"\"\"\n",
    "    Interprets midicsv files (midi files which have been converted to csv) and turns them into a recipe which can be played via the play recipe function.\n",
    "    \n",
    "    Parameters\n",
    "    ----------\n",
    "    midicsv_path : string\n",
    "        Either a local or a global path to the csv file. When using an input.txt file all defined midicsv paths can be loaded into a list with read_input()[5].\n",
    "    INSTRUMENT: instance\n",
    "        An instrument instance created using the Instrument class. This instance is required to filter instrument notes and since the Instrument is passed on to the play_recipe() function as part of the recipe.\n",
    "    play_all_instruments : boolean, optional\n",
    "        If set to True, all playable notes will be played regardless if the instrument type fits.\n",
    "    BPM_override : number, optional\n",
    "        BPM_override can be used to force a different BPM (play speed) of what was specified in de midicsv file.\n",
    "        \n",
    "    Returns recipe\n",
    "    --------------\n",
    "    song : pandas DataFrame \n",
    "        A dataframe with the midicsv data, Ie instrument number, note time, \"channel\", midi number and the velocity (loudness).\n",
    "    multi : Number\n",
    "        Multiplier used for the play speed.\n",
    "    INSTRUMENT : instance\n",
    "        The instance as used as input.\n",
    "    \"\"\"\n",
    "    # Reading CSV file\n",
    "    song = read_csv(midicsv_path, skipinitialspace=True,usecols=np.arange(6),header=None,skiprows=0, encoding='ISO-8859-1')\n",
    "    \n",
    "    # Estimating play speed multiplier based on midicsv input unless BPM_override is not None\n",
    "    if (BPM_override != None):\n",
    "        BPS = BPM_override/60\n",
    "    else:\n",
    "        BPS = 1e6/float(song[np.logical_or(song.iloc[:,2] == \" Tempo\", song.iloc[:,2] == \"Tempo\")].iloc[0,3])\n",
    "    print(\"BPM = \"+str(round(BPS*60,1)))\n",
    "    multi = (read_csv(midicsv_path,usecols=np.arange(6),skiprows = 0,header=None,nrows=1).iloc[0,-1]*BPS)\n",
    "\n",
    "    # Checking what midicsv instruments match with the input instrument\n",
    "    instruments = song[song.iloc[:,2] == \"Program_c\"]\n",
    "    i_play = [] # list of matching notes\n",
    "    for i in range(len(instruments)):\n",
    "        if any(float(instruments.iloc[i,4]) == INSTRUMENT.midi_instrument_nrs):\n",
    "            i_play.append(instruments.iloc[i,0])\n",
    "\n",
    "    # Selecting the notes of only the active instruments unless play_all_instruments==True\n",
    "    if (play_all_instruments==False):\n",
    "        song = song[[song.iloc[i,0] in i_play for i in range(len(song))]]\n",
    "        print(\"playing \"+str(len(i_play))+\" out of \"+str(len(instruments))+\" instruments\")\n",
    "    else:\n",
    "        print(\"playing \"+str(len(instruments))+\" out of \"+str(len(instruments))+\" instruments\")\n",
    "        \n",
    "    # Removing currently unused midicsv file lines such as changes in playspeed\n",
    "    song = song[np.logical_or(song.iloc[:,2]==\"Note_on_c\", song.iloc[:,2]==\"Note_off_c\")] # Selecting only playing commands\n",
    "    return song, multi, INSTRUMENT\n",
    "\n",
    "def play_recipe(recipe,velocity_volume=True, echo_time = None):\n",
    "    \"\"\"\n",
    "    Plays the notes according to the recipes using the player function. \n",
    "    \n",
    "    Parameters\n",
    "    ----------\n",
    "    recipe : tuple\n",
    "        A tuple created by the make_recipe() function. A recipe contains a song Pandas DataFrame and a multi(plyer) scaler and an instrument instance.\n",
    "    velocity_volume: bolean\n",
    "        A True/False switch which determines wether the individual note volume should scale linearly with the velocity. If not given, then True will be used.\n",
    "    echo_time: number, optional\n",
    "        Abruptly stopping key presses after a fixed amount of time. Can be used to free up channels or for a staccato effect. If not given, then None will be used, which means wavs are played as long as possible.\n",
    "    \n",
    "    See Also\n",
    "    --------\n",
    "    make_recipe : A function used to make receipes\n",
    "    Instrument : A class which can be used to create INSTRUMENT instances\n",
    "\n",
    "    Example\n",
    "    -------\n",
    "    >>> play_recipe(make_recipe(midicsv_paths[0]),Instrument(read_input(),0))\n",
    "    \"\"\"\n",
    "    vol = 1\n",
    "    song, multi, INSTRUMENT = recipe\n",
    "    pygame.mixer.init()\n",
    "    pygame.init()\n",
    "\n",
    "    scheduler = BackgroundScheduler()\n",
    "    timenow = datetime.now()\n",
    "\n",
    "    channel_note = [[None,None],[None,None]]\n",
    "    free_channels = list(np.arange(8))\n",
    "    \n",
    "    notes = np.array(song.iloc[:,4])\n",
    "    vels = np.array(song.iloc[:,5])\n",
    "    \n",
    "    for i in range(len(song)):\n",
    "        note = int(notes[i])\n",
    "        vel = int(vels[i])\n",
    "        if (velocity_volume):\n",
    "            vol = vel/np.max(vels)\n",
    "        if any(np.array(channel_note)[:,1] == note):\n",
    "            free_channels.insert(0,np.array(channel_note)[np.array(channel_note)[:,1] == note][0][0])\n",
    "            channel_note.remove(channel_note[int(np.where(np.array(channel_note)[:,1] == note)[0])])\n",
    "        if len(free_channels) == 0:\n",
    "            free_channels.append(channel_note[2][0])\n",
    "        channel_note.append([int(free_channels[0]),note])\n",
    "\n",
    "        if echo_time != None:\n",
    "            if vel != 0:\n",
    "                scheduler.add_job(player, 'date',[note_path(note,int(vel),INSTRUMENT),vol,free_channels[0]], run_date=timenow + timedelta(seconds=int(song.iloc[i,1])/multi),misfire_grace_time=3,max_instances=8)\n",
    "            else:\n",
    "                scheduler.add_job(player, 'date',[note_path(note,int(vel),INSTRUMENT),vol,free_channels[0]], run_date=timenow + timedelta(seconds=int(song.iloc[i,1])/multi+echo_time),misfire_grace_time=3,max_instances=8)\n",
    "        else:\n",
    "            if vel != 0:\n",
    "                scheduler.add_job(player, 'date',[note_path(note,int(vel),INSTRUMENT),vol,free_channels[0]], run_date=timenow + timedelta(seconds=int(song.iloc[i,1])/multi),misfire_grace_time=3,max_instances=8)\n",
    "        free_channels = free_channels[1:]\n",
    "    scheduler.start()\n",
    "    input('Press enter to stop: ')\n",
    "    scheduler.shutdown()\n",
    "\n",
    "def true_or_false(string):\n",
    "    \"\"\"\n",
    "    Function used for command line yes or no input. Takes either y/n and converts it into True of False output.\n",
    "    \"\"\"\n",
    "    if (string == \"Yes\" or string == \"yes\" or string == \"Y\" or string == \"y\"):\n",
    "        return True\n",
    "    elif (string == \"No\" or string == \"no\" or string == \"n\" or string == \"N\"):\n",
    "        return False\n",
    "    else:\n",
    "        print(\"try again\")\n",
    "        true_or_false(input())\n",
    "        \n",
    "def is_int(integer):\n",
    "    \"\"\"\n",
    "    Function used to check if input is an integer.\n",
    "    \"\"\"\n",
    "    try: \n",
    "        int(integer)\n",
    "        return int(integer)\n",
    "    except ValueError:\n",
    "        print(\"try again\")\n",
    "        is_int(input())"
   ]
  },
  {
   "cell_type": "code",
   "execution_count": 6,
   "metadata": {},
   "outputs": [],
   "source": [
    "### Classes\n",
    "class Instrument:\n",
    "    \"\"\"\n",
    "    Create instrument class.\n",
    "    input_txt = input_txt function output\n",
    "    i = instrument number\n",
    "    \"\"\"\n",
    "    def __init__(self,input_txt,instr_i):\n",
    "        instr_nr_combinations = (\n",
    "            ['piano',np.arange(8)],\n",
    "            ['blank',np.arange(0)]\n",
    "        )\n",
    "        self.name = input_txt[1][instr_i]\n",
    "        self.instrument_paths = input_txt[2][instr_i]\n",
    "        self.velocity_subfolders = input_txt[3][instr_i]\n",
    "        self.velocity_bounds = input_txt[4][instr_i]\n",
    "        for i in range(len(instr_nr_combinations)):\n",
    "            if (self.name == instr_nr_combinations[i][0]):\n",
    "                self.midi_instrument_nrs = instr_nr_combinations[i][1]"
   ]
  },
  {
   "cell_type": "code",
   "execution_count": 7,
   "metadata": {},
   "outputs": [
    {
     "name": "stdin",
     "output_type": "stream",
     "text": [
      "Play all instruments? y/n n\n",
      "Song number:  1\n"
     ]
    },
    {
     "name": "stdout",
     "output_type": "stream",
     "text": [
      "BPM = 200.0\n",
      "playing 2 out of 3 instruments\n"
     ]
    },
    {
     "name": "stdin",
     "output_type": "stream",
     "text": [
      "Press enter to stop:  \n",
      "Keep playing? y/n n\n"
     ]
    }
   ],
   "source": [
    "if __name__ == \"__main__\":\n",
    "    keep_playing = True\n",
    "    while keep_playing:\n",
    "        play_all_instruments = true_or_false(input(\"Play all instruments? y/n\")) # plays all notes regardless of what instrument it is supposed to be played on \n",
    "        csv_nr = int(is_int(input(\"Song number: \")) - 1)\n",
    "\n",
    "        INSTRUMENTS = [Instrument(read_input(),i) for i in range(read_input()[0])]\n",
    "        midicsv_paths = read_input()[5]\n",
    "        play_recipe(make_recipe(midicsv_paths[csv_nr],INSTRUMENTS[0]))\n",
    "        keep_playing = true_or_false(input(\"Keep playing? y/n\"))"
   ]
  },
  {
   "cell_type": "code",
   "execution_count": null,
   "metadata": {},
   "outputs": [],
   "source": [
    "### Input\n",
    "# path = \"midicsv-1.1/Tetris Theme.csv\"\n",
    "# path = \"midicsv-1.1/Billy_Joel_-_Piano_Man.csv\"\n",
    "# path = \"midicsv-1.1/for_elise_by_beethoven.csv\"\n",
    "# path = \"midicsv-1.1/deb_prel.csv\"\n",
    "# path = \"midicsv-1.1/Henry Mancini - Pink Panther.csv\"\n",
    "# path = \"midicsv-1.1/Beethoven-Moonlight-Sonata.csv\"\n",
    "# path = \"midicsv-1.1/Sia - Elastic Heart.csv\"\n",
    "# path = \"midicsv-1.1/Pirates of the Caribbean - He's a Pirate.csv\"\n",
    "# path = \"midicsv-1.1/joe_hisaishione_summers_day.csv\"\n",
    "# path = \"midicsv-1.1/pachelbel_canon.csv\""
   ]
  },
  {
   "cell_type": "markdown",
   "metadata": {},
   "source": [
    "# Wav file analyses"
   ]
  },
  {
   "cell_type": "code",
   "execution_count": 61,
   "metadata": {},
   "outputs": [],
   "source": [
    "from scipy.io import wavfile\n",
    "import matplotlib.pyplot as plt\n",
    "from scipy.fft import fft, fftfreq"
   ]
  },
  {
   "cell_type": "code",
   "execution_count": 611,
   "metadata": {},
   "outputs": [
    {
     "data": {
      "text/plain": [
       "40"
      ]
     },
     "execution_count": 611,
     "metadata": {},
     "output_type": "execute_result"
    }
   ],
   "source": [
    "midi_nr = 40\n",
    "max_fr = 4200*2\n",
    "samplerate, data = wavfile.read(note_path(midi_nr, 60, 0))\n",
    "\n",
    "yf = (fft(data[:,0])[:int(len(fft(data[:,0]))/2)])\n",
    "xf = (fftfreq(len(data[:,0]), 1 / samplerate)[:len(yf)])\n",
    "yf = yf[xf<=max_fr]\n",
    "xf = xf[xf<=max_fr]\n",
    "\n",
    "loglogyf = np.real(np.log(np.log(yf)))\n",
    "normloglogyf = (loglogyf-np.min(loglogyf))/np.max(loglogyf-np.min(loglogyf))\n",
    "\n",
    "peak_index = list(normloglogyf).index(np.max(normloglogyf))\n",
    "bounds = 0.9, 0.915\n",
    "\n",
    "second_peak_data = []\n",
    "mode = 0\n",
    "count = 0\n",
    "for j in range(2):\n",
    "    for i in range(len(xf)):\n",
    "        if (mode == 0):\n",
    "            if (normloglogyf[peak_index+i] < bounds[1]):\n",
    "                mode = 1\n",
    "                \n",
    "        if (mode == 1):\n",
    "            count += 1\n",
    "            if (count >= 400):\n",
    "                mode = 2\n",
    "                \n",
    "        if (mode == 2):\n",
    "            if (int(peak_index+i)>=len(normloglogyf)):\n",
    "                break\n",
    "            if (normloglogyf[peak_index+i] > bounds[1]):\n",
    "                second_peak_data.append([xf[peak_index+i],normloglogyf[peak_index+i]])\n",
    "            if (second_peak_data != []):\n",
    "                if (normloglogyf[peak_index+i] < bounds[0]):\n",
    "                    second_peak_data = np.array(second_peak_data)\n",
    "                    break\n",
    "\n",
    "    if (len(second_peak_data) == 0):\n",
    "        bounds = bounds[0]-.1,bounds[1]-.1\n",
    "    else:\n",
    "        break\n",
    "        \n",
    "second_peak_index = list(second_peak_data[:,1]).index(np.max(second_peak_data[:,1]))\n",
    "fr_found = second_peak_data[second_peak_index,0] - xf[peak_index]\n",
    "\n",
    "if (fr_found<10):# high tones don't resonated clearly therefore they are estimated based on the peak frequency\n",
    "    fr_found = xf[peak_index]\n",
    "index = read_csv('C:/Users/ianmu/OneDrive - Delft University of Technology/Google Drive/Overig/Overig/midi_nr_names.csv').iloc[:,0]\n",
    "frs = read_csv('C:/Users/ianmu/OneDrive - Delft University of Technology/Google Drive/Overig/Overig/midi_nr_names.csv').iloc[:,5]\n",
    "\n",
    "midi_nr_est = int(index[list(np.abs(frs - fr_found)).index(np.min(np.abs(frs - fr_found)))])\n",
    "\n",
    "midi_nr_est"
   ]
  },
  {
   "cell_type": "code",
   "execution_count": 589,
   "metadata": {},
   "outputs": [
    {
     "data": {
      "text/plain": [
       "[<matplotlib.lines.Line2D at 0x24dac9eb8c8>]"
      ]
     },
     "execution_count": 589,
     "metadata": {},
     "output_type": "execute_result"
    },
    {
     "data": {
      "image/png": "[encoded data removed]",
      "text/plain": [
       "<Figure size 432x288 with 1 Axes>"
      ]
     },
     "metadata": {
      "needs_background": "light"
     },
     "output_type": "display_data"
    }
   ],
   "source": [
    "plt.plot(xf, normloglogyf)\n",
    "plt.xlim(0,3000)\n",
    "plt.ylim(0.8,1)\n",
    "plt.plot([0,3000],[bounds[1],bounds[1]])\n",
    "plt.plot([0,3000],[bounds[0],bounds[0]])\n",
    "plt.plot(xf[peak_index],np.real(normloglogyf)[peak_index],'r.')\n",
    "plt.plot(second_peak_data[second_peak_index,0],second_peak_data[second_peak_index,1],'r.')\n"
   ]
  },
  {
   "cell_type": "code",
   "execution_count": 558,
   "metadata": {},
   "outputs": [
    {
     "data": {
      "text/plain": [
       "24"
      ]
     },
     "execution_count": 558,
     "metadata": {},
     "output_type": "execute_result"
    }
   ],
   "source": [
    "midi_nr"
   ]
  },
  {
   "cell_type": "code",
   "execution_count": null,
   "metadata": {},
   "outputs": [],
   "source": []
  }
 ],
 "metadata": {
  "kernelspec": {
   "display_name": "Python 3",
   "language": "python",
   "name": "python3"
  },
  "language_info": {
   "codemirror_mode": {
    "name": "ipython",
    "version": 3
   },
   "file_extension": ".py",
   "mimetype": "text/x-python",
   "name": "python",
   "nbconvert_exporter": "python",
   "pygments_lexer": "ipython3",
   "version": "3.7.6"
  }
 },
 "nbformat": 4,
 "nbformat_minor": 4
}
